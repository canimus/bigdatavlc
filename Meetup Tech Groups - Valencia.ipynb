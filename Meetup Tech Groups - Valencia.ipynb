{
 "cells": [
  {
   "cell_type": "markdown",
   "metadata": {
    "slideshow": {
     "slide_type": "slide"
    }
   },
   "source": [
    "# Análisis de la Red Meetup.com\n",
    "--------------\n",
    "En el siguiente estudio se realiza un esfuerzo para cuantificar el vólumen de miembros y actividades alrededor de Valencia en el ámbito tecnológico. Este estudio se basa el identificar grupos de interes comun, y el numero de miembros unicos y activos.\n",
    "\n",
    "_Herminio Vazquez <canimus@gmail.com> en Valencia, España a 1 de Septiembre del 2016_"
   ]
  },
  {
   "cell_type": "code",
   "execution_count": 1,
   "metadata": {
    "collapsed": false,
    "scrolled": false,
    "slideshow": {
     "slide_type": "skip"
    }
   },
   "outputs": [],
   "source": [
    "%matplotlib inline\n",
    "import requests # ....................... Para llamadas HTTP al API\n",
    "import json     # ....................... Para la lectura del formato de respuesta\n",
    "import os       # ....................... Para utilizar variables de ambiente\n",
    "import matplotlib # ..................... Para visualizar graficas en este libro\n",
    "import numpy as np # .................... Para operaciones con matrices y vectores\n",
    "import pandas as pd # ................... Para el manejo de datos con Data Frames\n",
    "import math # ........................... Para redondeo de numeros\n",
    "import matplotlib.pylab as plt # ........ Para construir las visualizaciones\n",
    "from dotmap import DotMap # ............. Para convertir diccionarios en objetos"
   ]
  },
  {
   "cell_type": "markdown",
   "metadata": {},
   "source": [
    "## Requisitos\n",
    "\n",
    "**Jupyter Notebook**\n",
    "Este libro de notas, esta realizado con Jupyter Notebooks, la instalación esta fuera del alcance de este proyecto, pero lo mas sencillo en entornos y sistemas operativos diferences es optar por instalar `conda` para la gestion de los paquetes necesarios, asi como la herramienta `pip` que facilita tambien la descarga e instalacion de paquetes y librerias en `python`\n",
    "\n",
    "**Meetup API**\n",
    "Los datos son directamente extraidos de su fuente natural en Meetup.com a traves de una API que ofrece la oportunidad de realizar peticiones, hasta un cierto volumen que no viole su politica de uso moderado, y los diferentes `endpoints` que su API ofrece.\n",
    "Para poder ganar el acceso a esta API es necesario obtener un `API_KEY` que por efectos de seguridad ha sido pasado como una variable de ambiente a este libro de notas, para poder utilizar este mismo libro con otra llave de entrara sera necesario llamar al notebook con el siguiente comando:\n",
    "```sh\n",
    "# Llamada al libro de notas pasando una variable de ambiente\n",
    "MEETUP_KEY=a1b2c3d4f5g6h7 jupyter notebook\n",
    "```"
   ]
  },
  {
   "cell_type": "code",
   "execution_count": 162,
   "metadata": {
    "collapsed": false,
    "scrolled": false
   },
   "outputs": [],
   "source": [
    "# Function auxiliar para imprimir contadores a color\n",
    "def print_count(count=0, text=\"\", color=5):\n",
    "    a = \"{:,}\".format(count)\n",
    "    print(\"[\\x1b[3\" + str(color) + \"m\" + str(a) + \"\\x1b[0m] \" + str(text))\n",
    "    \n",
    "# Impresion de top 10 de lista\n",
    "def print_top(arr, qty=10, order=-1):\n",
    "    for g in arr[-qty:][::order]:\n",
    "        print_count(g[1], g[0])\n",
    "\n",
    "# Extraccion de miembros recursiva por cada grupo\n",
    "def extract_members(group_url, offset_limit=0):\n",
    "    # Extraccion de Miembros\n",
    "    payload          = {\n",
    "        'key'      : os.environ['MEETUP_KEY'],        \n",
    "        'page'     : 200,\n",
    "        'offset'   : offset_limit\n",
    "    }\n",
    "    endpoint         = 'https://api.meetup.com/'\n",
    "    url              = group_url\n",
    "    service          = '/members'\n",
    "    \n",
    "    batch            = requests.get('{0}{1}{2}'.format(endpoint, group_url, service), params=payload).json()\n",
    "    batch_df         = pd.DataFrame(batch)\n",
    "    batch_df.joined  = pd.to_datetime(batch_df.joined, unit=\"ms\")\n",
    "    return batch_df"
   ]
  },
  {
   "cell_type": "code",
   "execution_count": 4,
   "metadata": {
    "collapsed": false,
    "scrolled": false
   },
   "outputs": [],
   "source": [
    "# Extraccion de Categorias\n",
    "payload         = {'key' : os.environ['MEETUP_KEY']}\n",
    "endpoint        = 'https://api.meetup.com/2/'\n",
    "service         = 'categories'\n",
    "categories      = requests.get('{0}{1}'.format(endpoint, service), params=payload).json()\n",
    "categories_dict = DotMap(categories)\n",
    "categories_df   = pd.DataFrame(categories['results'])"
   ]
  },
  {
   "cell_type": "code",
   "execution_count": 5,
   "metadata": {
    "collapsed": false,
    "scrolled": false
   },
   "outputs": [],
   "source": [
    "# Extraccion de Grupos\n",
    "payload = {\n",
    "    'key' : os.environ['MEETUP_KEY'],\n",
    "    'category_id' : 34, # This corresponds to Tech category\n",
    "    'country' : 'es',\n",
    "    'city' : 'Valencia'\n",
    "}\n",
    "endpoint        = 'https://api.meetup.com/2/'\n",
    "service          = 'groups'\n",
    "tech_groups      = requests.get('{0}{1}'.format(endpoint, service), params=payload).json()\n",
    "tech_groups_dict = DotMap(tech_groups)\n",
    "tech_groups_df   = pd.DataFrame(tech_groups['results'])\n",
    "\n",
    "# Conversion a objeto DateTime a partir de el numero de milisegundos que proporciona Meetup\n",
    "tech_groups_df.created = pd.to_datetime(tech_groups_df.created, unit=\"ms\")"
   ]
  },
  {
   "cell_type": "code",
   "execution_count": 6,
   "metadata": {
    "collapsed": false,
    "scrolled": false
   },
   "outputs": [
    {
     "name": "stdout",
     "output_type": "stream",
     "text": [
      "[\u001b[35m47\u001b[0m] Grupos de tecnologia\n"
     ]
    }
   ],
   "source": [
    "print_count(tech_groups_dict.meta.count,\"Grupos de tecnologia\")"
   ]
  },
  {
   "cell_type": "markdown",
   "metadata": {},
   "source": [
    "## Popularidad de los Grupos de Tecnología\n",
    "\n",
    "El siguiente grafico nos muestra el volumen de miembros registrador por cada uno de los grupos etiquetados con un perfil tecnologico y utulizando un filtro que reduce resultados a España como país y Valencia como ciudad."
   ]
  },
  {
   "cell_type": "code",
   "execution_count": 7,
   "metadata": {
    "collapsed": false,
    "scrolled": false
   },
   "outputs": [
    {
     "data": {
      "text/plain": [
       "<matplotlib.axes._subplots.AxesSubplot at 0x1130cc0f0>"
      ]
     },
     "execution_count": 7,
     "metadata": {},
     "output_type": "execute_result"
    },
    {
     "data": {
      "image/png": "[encoded data removed]",
      "text/plain": [
       "<matplotlib.figure.Figure at 0x1130aa208>"
      ]
     },
     "metadata": {},
     "output_type": "display_data"
    }
   ],
   "source": [
    "tech_groups_df[[\"name\", \"members\"]].sort_values(by=\"members\").plot(kind=\"barh\", y=\"members\", x=\"name\", figsize=(10,10))"
   ]
  },
  {
   "cell_type": "markdown",
   "metadata": {},
   "source": [
    "### Lista de los Top 10\n",
    "\n",
    "Muestra que WordPress es popular y que JavaScript aparenta tener un gran aforo, seguidos de comercio electronico junto con las  &#x1f37a;"
   ]
  },
  {
   "cell_type": "code",
   "execution_count": 27,
   "metadata": {
    "collapsed": false,
    "scrolled": false
   },
   "outputs": [
    {
     "name": "stdout",
     "output_type": "stream",
     "text": [
      "[\u001b[35m693\u001b[0m] WordPress Valencia\n",
      "[\u001b[35m540\u001b[0m] ValenciaJS\n",
      "[\u001b[35m532\u001b[0m] GameDevs Valencia\n",
      "[\u001b[35m529\u001b[0m] eComm & Beers Valencia\n",
      "[\u001b[35m515\u001b[0m] Machine Learning\n",
      "[\u001b[35m454\u001b[0m] Big Data Valencia\n",
      "[\u001b[35m434\u001b[0m] PHP Valencia\n",
      "[\u001b[35m424\u001b[0m] Python Valencia\n",
      "[\u001b[35m421\u001b[0m] Meetmobile VLC\n",
      "[\u001b[35m395\u001b[0m] Aprende a programar en Valencia\n"
     ]
    }
   ],
   "source": [
    "print_top(tech_groups_df[[\"name\", \"members\"]].sort_values(by=\"members\").values)"
   ]
  },
  {
   "cell_type": "markdown",
   "metadata": {},
   "source": [
    "### Listado de los Ultimos 5\n",
    "\n",
    "Es bueno saber que grupos son los que menos aforo tienen, y saber cuales son las principales variantes de sus diferencias, para entender que afecta su constitucion."
   ]
  },
  {
   "cell_type": "code",
   "execution_count": 28,
   "metadata": {
    "collapsed": false,
    "scrolled": false
   },
   "outputs": [
    {
     "name": "stdout",
     "output_type": "stream",
     "text": [
      "[\u001b[35m1\u001b[0m] Valencia Data Science\n",
      "[\u001b[35m26\u001b[0m] VMUG Levante (VMware User Group)\n",
      "[\u001b[35m42\u001b[0m] Magento 2 & Beers\n",
      "[\u001b[35m49\u001b[0m] Valencia R Users Group\n",
      "[\u001b[35m50\u001b[0m] Web Startups Valencia\n"
     ]
    }
   ],
   "source": [
    "print_top(tech_groups_df[[\"name\", \"members\"]].sort_values(by=\"members\", ascending=[False]).values, 5, -1)"
   ]
  },
  {
   "cell_type": "markdown",
   "metadata": {},
   "source": [
    "Profundizaremos para ver por cada unos de los grupos el numero registrado y activo de miembros, asi como su geolocalizcion en la ciudad. Para determinar que lugar concentra el mas alto nivel de teckies en Valencia.\n",
    "\n",
    "Vamos a asumir que cada grupo tiene miembros unicos, aunque se puede predecir que determinados usuarios son miembros de mas de un grupo. Parte de este estudio sera determinar el volumen unico de usuarios potenciales de la aplicacion en la ciudad de Valencia."
   ]
  },
  {
   "cell_type": "code",
   "execution_count": 154,
   "metadata": {
    "collapsed": false,
    "scrolled": false
   },
   "outputs": [
    {
     "name": "stdout",
     "output_type": "stream",
     "text": [
      "[\u001b[35m11,202\u001b[0m] Suma de Miembros\n"
     ]
    }
   ],
   "source": [
    "print_count(tech_groups_df.members.values.sum(), \"Suma de Miembros\")"
   ]
  },
  {
   "cell_type": "markdown",
   "metadata": {},
   "source": [
    "Extraer la informacion de todos los miembros es una rutina que lleva tiempo, dependiendo de la calidad de la conexion a internet, el archivo es aproximadamente __`21MB`__ pero una vez descargado, lo mejor es guardarlo en un archivo local, para que cada vez que se ejecute el libro de notas, no sea necesario tener que descargarlo una y otra vez. \n"
   ]
  },
  {
   "cell_type": "code",
   "execution_count": 832,
   "metadata": {
    "collapsed": false,
    "scrolled": true
   },
   "outputs": [],
   "source": [
    "members_df = pd.DataFrame()\n",
    "REQUEST_QUOTA = 200.0\n",
    "for group in tech_groups_dict.results:\n",
    "    # Check the current number of members\n",
    "    total_members = group.members\n",
    "    iteraciones = math.ceil(total_members/REQUEST_QUOTA)\n",
    "    for i in range(iteraciones):\n",
    "        frame = extract_members(group.urlname, i)\n",
    "        members_df = members_df.append(frame, ignore_index=True)"
   ]
  },
  {
   "cell_type": "markdown",
   "metadata": {},
   "source": [
    "Como los datos ahora se encuentran en dos diferentes DataFrames, lo que haremos sera vectorizar un par de funciones para aplicarlas a cada uno de los miembros, y de esa forma obtener referencias entre DataFrames que nos permitan llevar a cabo nuestro analysis, es una especia de `JOIN` manual, quizas no lo mas eficiente, pero al menos de esta forma podremos tener la informacion necesaria en un DataFrame para entender el comportamiento de los usuarios que se incorporan a los grupos."
   ]
  },
  {
   "cell_type": "code",
   "execution_count": 833,
   "metadata": {
    "collapsed": false,
    "scrolled": false
   },
   "outputs": [],
   "source": [
    "time_keys = [\"visited\", \"created\", \"updated\"]\n",
    "def group_info(x):\n",
    "    if isinstance(x, dict): \n",
    "        a,b,c = [pd.to_datetime(v, unit=\"ms\") for k, v in x.items() if k in time_keys]        \n",
    "        return [x.get('group').get('id'),a,b,c]\n",
    "\n",
    "\n",
    "f1 = np.vectorize(group_info)\n",
    "\n",
    "g1 = members_df.values[:,[5,6,10,13]]\n",
    "g2 = f1(members_df.group_profile.values)"
   ]
  },
  {
   "cell_type": "code",
   "execution_count": 705,
   "metadata": {
    "collapsed": false,
    "scrolled": false
   },
   "outputs": [],
   "source": [
    "def get_group_created(row):\n",
    "    if row['group_id']:\n",
    "        return tech_groups_df.query('id == '+str(row['group_id'])).created.values[0]\n",
    "\n",
    "df2[\"group_created\"] = df2.apply(lambda row: get_group_created(row), axis=1)"
   ]
  },
  {
   "cell_type": "code",
   "execution_count": 569,
   "metadata": {
    "collapsed": false,
    "scrolled": false
   },
   "outputs": [],
   "source": [
    "g3 = np.empty(g1.shape, dtype=object)"
   ]
  },
  {
   "cell_type": "code",
   "execution_count": 570,
   "metadata": {
    "collapsed": false,
    "scrolled": false
   },
   "outputs": [
    {
     "data": {
      "text/plain": [
       "(10794, 4)"
      ]
     },
     "execution_count": 570,
     "metadata": {},
     "output_type": "execute_result"
    }
   ],
   "source": [
    "g3.shape"
   ]
  },
  {
   "cell_type": "code",
   "execution_count": 571,
   "metadata": {
    "collapsed": false,
    "scrolled": false
   },
   "outputs": [],
   "source": [
    "i = 0\n",
    "\n",
    "for k in g2:\n",
    "    j = 0\n",
    "    if isinstance(k, list):\n",
    "        for v in k:\n",
    "            g3[i][j] = v\n",
    "            j += 1\n",
    "    i += 1"
   ]
  },
  {
   "cell_type": "code",
   "execution_count": 573,
   "metadata": {
    "collapsed": false,
    "scrolled": false
   },
   "outputs": [],
   "source": [
    "g5 = np.concatenate((g1,g3), axis=1)"
   ]
  },
  {
   "cell_type": "code",
   "execution_count": 579,
   "metadata": {
    "collapsed": false,
    "scrolled": false
   },
   "outputs": [
    {
     "data": {
      "text/plain": [
       "(10794, 8)"
      ]
     },
     "execution_count": 579,
     "metadata": {},
     "output_type": "execute_result"
    }
   ],
   "source": [
    "g5.shape"
   ]
  },
  {
   "cell_type": "code",
   "execution_count": 619,
   "metadata": {
    "collapsed": false,
    "scrolled": false
   },
   "outputs": [],
   "source": [
    "df2 = pd.DataFrame(g5, columns=[\"id\",\"joined\", \"name\", \"status\", \"group_id\", \"visited\", \"created\", \"updated\"])"
   ]
  },
  {
   "cell_type": "code",
   "execution_count": 741,
   "metadata": {
    "collapsed": false,
    "scrolled": true
   },
   "outputs": [],
   "source": [
    "df2[\"join_after_days\"] = (df2.created - df2.group_created.astype(object)).dt.days"
   ]
  },
  {
   "cell_type": "markdown",
   "metadata": {},
   "source": [
    "## Cuando se unirá al grupo el siguiente miembro?\n",
    "\n",
    "El histograma que se presenta a relacion de los días transcurridos, despues de la creacion del grupo, y la adición de un miembro al grupo, excluyendo al moderador o creador del grupo. \n",
    "\n",
    "El resultado demuestra que para 25% de los grupos los nuevos miembros llegan en una franja temporal de 30 dias naturales, no tomando en cuenta ninguna otra variable en consideracion. Para poder hacer una correlacion y predicciones, quizas tengamos que ampliar el modelo para considerar meses, dias, horas, y los topicos que se abordan en el grupo, asi como tambien, la correlacion con la creacion de eventos asociadas al grupo. \n",
    "\n",
    "Pero para comenzar, y solo explorar los datos, se presenta una distribucion que calcula los dias de diferencia entre el dia que se creo el grupo, y la fecha de incorporacion del segundo miembro, asumiendo que el primer miembro es el coordinador del grupo, y que el grupo solo cuenta con un coordinador."
   ]
  },
  {
   "cell_type": "code",
   "execution_count": 831,
   "metadata": {
    "collapsed": false
   },
   "outputs": [
    {
     "data": {
      "image/png": "[encoded data removed]",
      "text/plain": [
       "<matplotlib.figure.Figure at 0x158c59d68>"
      ]
     },
     "metadata": {},
     "output_type": "display_data"
    }
   ],
   "source": [
    "p1 = df2.groupby('group_id').nth(2)[[\"join_after_days\"]].sort_values(by=\"join_after_days\").plot(kind=\"hist\", figsize=(16,6))\n",
    "for p in p1.patches:\n",
    "    p1.annotate(str(round(p.get_x(),2))+\" / \"+str(round(p.get_height(),0)), (p.get_x() + 20.0, p.get_height() * 1.03))"
   ]
  },
  {
   "cell_type": "code",
   "execution_count": 827,
   "metadata": {
    "collapsed": false,
    "scrolled": true
   },
   "outputs": [
    {
     "data": {
      "text/plain": [
       "join_after_days    49.0\n",
       "dtype: float64"
      ]
     },
     "execution_count": 827,
     "metadata": {},
     "output_type": "execute_result"
    }
   ],
   "source": [
    "df2.groupby('group_id').nth(2)[[\"join_after_days\"]].sort_values(by=\"join_after_days\").quantile(q=0.50)"
   ]
  },
  {
   "cell_type": "markdown",
   "metadata": {},
   "source": [
    "Los datos demuestran que para el 50% de los grupos, la incorporacion de nuevos miembros sucede a los __49 dias__ naturales de la creacion del grupo. Veremos si este modelo se sostiene como verdadero, para el grupo de Data Science en Valencia. &#x1f530;"
   ]
  },
  {
   "cell_type": "code",
   "execution_count": null,
   "metadata": {
    "collapsed": false,
    "scrolled": false
   },
   "outputs": [],
   "source": [
    "# Impresion de grafico complejo para monitoreo de adicion a grupos\n",
    "#pd.groupby(df2, by=[df2.group_id, df2.created.dt.year, df2.created.dt.month]).size().plot(kind=\"bar\", title=\"Visits distributed by Month\", color=\"green\", figsize=(20,20))"
   ]
  },
  {
   "cell_type": "markdown",
   "metadata": {},
   "source": [
    "Vamos a proceder a guardar los resultados localmente para no tener que volver a descargar todos los miembros de los meetups y tener que consumir el numero limitado de peticiones por hora que se tienen disponibles en el API\n",
    "\n",
    "```sh\n",
    "file all_members.json\n",
    "```"
   ]
  },
  {
   "cell_type": "code",
   "execution_count": null,
   "metadata": {
    "collapsed": false,
    "scrolled": false
   },
   "outputs": [],
   "source": [
    "with open('all_members.json', 'w') as outfile:\n",
    "    json.dump(members_df.to_json(), outfile)"
   ]
  },
  {
   "cell_type": "markdown",
   "metadata": {},
   "source": [
    "# Continuación....... &#x1f51c;\n",
    "\n",
    "\n",
    "## Extranjeros\n",
    "\n",
    "No todos los usuarios que estan en los meetups en Valencia tienen su residencia en la Valencia, por ello es importante identificar quienes tienen su registro fuera de Valencia, para poder asi filtrar los individuos que en realidad participan en los meetups locales"
   ]
  },
  {
   "cell_type": "code",
   "execution_count": null,
   "metadata": {
    "collapsed": false,
    "scrolled": false
   },
   "outputs": [],
   "source": [
    "country_filter = members_df.query('country != \"es\"').groupby([\"country\"]).size().sort_values()\n",
    "country_filter.plot(kind=\"barh\", x=\"country\", figsize=(10,10))"
   ]
  },
  {
   "cell_type": "code",
   "execution_count": null,
   "metadata": {
    "collapsed": false,
    "scrolled": false
   },
   "outputs": [],
   "source": [
    "country_values = pd.DataFrame({\"count\": country_filter.values, \"country\": country_filter.index})\n",
    "country_values = country_values[[\"country\", \"count\"]]\n",
    "print_top(country_values.values, 10)"
   ]
  },
  {
   "cell_type": "markdown",
   "metadata": {},
   "source": [
    "Ingleses, Americanos e Irlandeses son los paises que mas afiliados tienen a Meetups in Valencia, con un numero considerablemente mayor al de los demas paises de habla hispana.\n",
    "\n",
    "## Valencianos\n",
    "\n",
    "Ok, ya que tenemos filtrados a extranjeros cuya ciudad de residencia esta fuera de Valencia, vamos a enfocarnos en los usuarios unicos, que esten activos y ver si su actividad en meetup es reciente, obteniendo esa informacion a traves del campo `visited` que indica la ultima fecha en que entro al sitio de Meetup.com"
   ]
  },
  {
   "cell_type": "code",
   "execution_count": null,
   "metadata": {
    "collapsed": false,
    "scrolled": false
   },
   "outputs": [],
   "source": [
    "spanish    = members_df.query('country == \"es\"').id.unique()\n",
    "valencians = members_df.query('country == \"es\" and city == \"Valencia\"').id.unique()\n",
    "print_count(spanish.size, \"Españoles\")\n",
    "print_count(valencians.size, \"Valencianos\")"
   ]
  },
  {
   "cell_type": "code",
   "execution_count": null,
   "metadata": {
    "collapsed": false,
    "scrolled": false
   },
   "outputs": [],
   "source": [
    "i = 1\n",
    "for n in list(map(lambda x: x.organizer.name, tech_groups_dict.results)):\n",
    "    print_count(i, n)\n",
    "    i += 1"
   ]
  }
 ],
 "metadata": {
  "kernelspec": {
   "display_name": "Python 3",
   "language": "python",
   "name": "python3"
  },
  "language_info": {
   "codemirror_mode": {
    "name": "ipython",
    "version": 3
   },
   "file_extension": ".py",
   "mimetype": "text/x-python",
   "name": "python",
   "nbconvert_exporter": "python",
   "pygments_lexer": "ipython3",
   "version": "3.5.1"
  }
 },
 "nbformat": 4,
 "nbformat_minor": 0
}
