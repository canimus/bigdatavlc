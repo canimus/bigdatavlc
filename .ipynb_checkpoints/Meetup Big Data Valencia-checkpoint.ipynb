{
 "cells": [
  {
   "cell_type": "markdown",
   "metadata": {},
   "source": [
    "# Meetup.com / Big Data Valencia\n",
    "---------------\n",
    "\n",
    "* Author: Herminio Vazquez\n",
    "* Date: August 30, 2016"
   ]
  },
  {
   "cell_type": "code",
   "execution_count": 1,
   "metadata": {
    "collapsed": false
   },
   "outputs": [],
   "source": [
    "# Loading of the required libraries\n",
    "%matplotlib inline\n",
    "import matplotlib\n",
    "import numpy as np\n",
    "import pandas as pd\n",
    "from pandas.io.json import json_normalize\n",
    "import json\n",
    "import os\n",
    "import re\n",
    "import urllib.request\n",
    "import matplotlib.pylab as plt"
   ]
  },
  {
   "cell_type": "markdown",
   "metadata": {},
   "source": [
    "## 1. Extracting the data\n",
    "\n",
    "The following book provides an analysis of the Big Data Community in Valencia, analyzed by the data available in [Meetup.com](http://meetup.com). The data was acquired using an individual **ACCESS_KEY** available when subscribing as a member of the meetup community.\n",
    "\n",
    "```sh\n",
    "# Downloading command in 100 batches\n",
    "# First 100 batch\n",
    "curl -S https://api.meetup.com/2/members?key=ACCESS_KEY&offset=0&format=json&groupnum=16006202&group_urlname=BigDataValencia&photo-host=public&page=100&order=name > 100.json\n",
    "\n",
    "# Second batch\n",
    "curl -S https://api.meetup.com/2/members?key=ACCESS_KEY&offset=1&format=json&groupnum=16006202&group_urlname=BigDataValencia&photo-host=public&page=100&order=name > 200.json\n",
    "\n",
    "# Third batch\n",
    "curl -S https://api.meetup.com/2/members?key=ACCESS_KEY&offset=2&format=json&groupnum=16006202&group_urlname=BigDataValencia&photo-host=public&page=100&order=name > 300.json\n",
    "\n",
    "# Fourth batch\n",
    "curl -S https://api.meetup.com/2/members?key=ACCESS_KEY&offset=3&format=json&groupnum=16006202&group_urlname=BigDataValencia&photo-host=public&page=100&order=name > 400.json\n",
    "\n",
    "# Fifth batch\n",
    "curl -S https://api.meetup.com/2/members?key=ACCESS_KEY&offset=4&format=json&groupnum=16006202&group_urlname=BigDataValencia&photo-host=public&page=100&order=name > 500.json\n",
    "```"
   ]
  },
  {
   "cell_type": "markdown",
   "metadata": {},
   "source": [
    "## 2. Loading the data\n",
    "\n",
    "We will load each individual file into the variable `fileList` and from there we will access purely the results atom of the json response, leaving the meta data available for other analysis session."
   ]
  },
  {
   "cell_type": "code",
   "execution_count": 2,
   "metadata": {
    "collapsed": false
   },
   "outputs": [],
   "source": [
    "fileList = list(filter(lambda x: re.match(\".*json$\", x), os.listdir()))"
   ]
  },
  {
   "cell_type": "markdown",
   "metadata": {},
   "source": [
    "Adding subsets into the `data` list in order to extract individual members"
   ]
  },
  {
   "cell_type": "code",
   "execution_count": 3,
   "metadata": {
    "collapsed": false
   },
   "outputs": [],
   "source": [
    "data = []\n",
    "for f in fileList:\n",
    "    with open(f) as data_file:    \n",
    "        data.append(json.load(data_file)[\"results\"])"
   ]
  },
  {
   "cell_type": "code",
   "execution_count": 4,
   "metadata": {
    "collapsed": false
   },
   "outputs": [],
   "source": [
    "members = []\n",
    "for m in data:\n",
    "    for i in m:\n",
    "        members.append(i)"
   ]
  },
  {
   "cell_type": "markdown",
   "metadata": {},
   "source": [
    "The **`members`** variable holds the total number of members in the Big Data meetup group, with all their characteristics and preferences.\n",
    "\n",
    "### Numbers of Members interested in Big Data:"
   ]
  },
  {
   "cell_type": "code",
   "execution_count": 5,
   "metadata": {
    "collapsed": false
   },
   "outputs": [
    {
     "data": {
      "text/plain": [
       "451"
      ]
     },
     "execution_count": 5,
     "metadata": {},
     "output_type": "execute_result"
    }
   ],
   "source": [
    "len(members)"
   ]
  },
  {
   "cell_type": "markdown",
   "metadata": {},
   "source": [
    "### Understanding the data set\n",
    "\n",
    "The following list presents a brief introduction to the fields available in the data set obtained from the the meetup website\n",
    "\n",
    "- **bio**:           small tag line from members\n",
    "- **city**:          place where they live\n",
    "- **country**:       country of residence\n",
    "- **hometown**:      typically where they were born\n",
    "- **id**:            unique identifier\n",
    "- **joined**:        added to the group\n",
    "- **lang**:          preferable language\n",
    "- **lat**:           latitude from location\n",
    "- **link**:          link to meetup profile page\n",
    "- **lon**:           longitude from location\n",
    "- **name**:          first and last names\n",
    "- **other_services**:social media channels\n",
    "- **photo**:         links to avatars\n",
    "- **self**:          groups in common\n",
    "- **status**:        active or inactive\n",
    "- **state**:         region in the country\n",
    "- **topics**:        aras of interest\n",
    "- **visited**:       last visit to the group page\n"
   ]
  },
  {
   "cell_type": "markdown",
   "metadata": {},
   "source": [
    "## 3. Filtering the data\n",
    "\n",
    "We will proceed and filter only the members that have their city and country associated to **Valencia, Spain** and also group them by the date they last acccessed the meetup website. The interest is to potenciate candidates that are actively participating in the group, so we can leverage them in our candidate research"
   ]
  },
  {
   "cell_type": "code",
   "execution_count": 6,
   "metadata": {
    "collapsed": false
   },
   "outputs": [
    {
     "data": {
      "text/plain": [
       "Index(['bio', 'city', 'country', 'hometown', 'id', 'joined', 'lang', 'lat',\n",
       "       'link', 'lon', 'name', 'other_services', 'photo', 'self', 'state',\n",
       "       'status', 'topics', 'visited'],\n",
       "      dtype='object')"
      ]
     },
     "execution_count": 6,
     "metadata": {},
     "output_type": "execute_result"
    }
   ],
   "source": [
    "# Creating a data frame for faster manipulation\n",
    "df = pd.DataFrame(data=members)\n",
    "\n",
    "# Setting a unique identifier for each row\n",
    "df.set_index(['id']);\n",
    "\n",
    "# Casting the columns for Date Time fields\n",
    "df.visited = (df.visited.values/1000).astype('datetime64[s]')\n",
    "df.joined  = (df.joined.values/1000).astype('datetime64[s]')\n",
    "\n",
    "# Printing the column names\n",
    "df.columns"
   ]
  },
  {
   "cell_type": "code",
   "execution_count": 7,
   "metadata": {
    "collapsed": false
   },
   "outputs": [
    {
     "data": {
      "text/plain": [
       "419"
      ]
     },
     "execution_count": 7,
     "metadata": {},
     "output_type": "execute_result"
    }
   ],
   "source": [
    "# Number of members which country of residence is Spain\n",
    "df[df.country == \"es\"].id.size"
   ]
  },
  {
   "cell_type": "code",
   "execution_count": 8,
   "metadata": {
    "collapsed": false
   },
   "outputs": [
    {
     "data": {
      "text/plain": [
       "332"
      ]
     },
     "execution_count": 8,
     "metadata": {},
     "output_type": "execute_result"
    }
   ],
   "source": [
    "# Number of members which country of residence is Spain and city Valencia\n",
    "df[(df.country == \"es\") & (df.city == \"Valencia\")].id.size"
   ]
  },
  {
   "cell_type": "markdown",
   "metadata": {},
   "source": [
    "## 4. Subset the data\n",
    "\n",
    "We will create a group called `vlc` which represents the members of the meetup that live in Valencia, Spain. And from there we will start gathering more information and statistics of use, to engage and target specific individuals that can be a fit for new roles in IOVIO"
   ]
  },
  {
   "cell_type": "code",
   "execution_count": 9,
   "metadata": {
    "collapsed": false
   },
   "outputs": [],
   "source": [
    "# Subset to work on, Living in Valencia,Spain and active\n",
    "vlc = df[(df.country == \"es\") & (df.city == \"Valencia\") & (df.status == \"active\")]"
   ]
  },
  {
   "cell_type": "code",
   "execution_count": 10,
   "metadata": {
    "collapsed": false
   },
   "outputs": [
    {
     "data": {
      "text/plain": [
       "visited\n",
       "2014     50\n",
       "2015    190\n",
       "2016     92\n",
       "dtype: int64"
      ]
     },
     "execution_count": 10,
     "metadata": {},
     "output_type": "execute_result"
    }
   ],
   "source": [
    "# Understand the distribution of accounts by created time\n",
    "pd.groupby(vlc, by=vlc.visited.dt.year).size()"
   ]
  },
  {
   "cell_type": "code",
   "execution_count": 41,
   "metadata": {
    "collapsed": false
   },
   "outputs": [
    {
     "data": {
      "text/plain": [
       "<matplotlib.axes._subplots.AxesSubplot at 0x115b3b780>"
      ]
     },
     "execution_count": 41,
     "metadata": {},
     "output_type": "execute_result"
    },
    {
     "data": {
      "image/png": "[encoded data removed]",
      "text/plain": [
       "<matplotlib.figure.Figure at 0x115dbbb38>"
      ]
     },
     "metadata": {},
     "output_type": "display_data"
    }
   ],
   "source": [
    "pd.groupby(vlc, by=vlc.visited.dt.year).size() \\\n",
    ".plot(kind=\"bar\", title=\"Volume of Members Visits per Year\", color=\"green\", figsize=(12,4))"
   ]
  },
  {
   "cell_type": "markdown",
   "metadata": {},
   "source": [
    "#### Most activity correlate to last Meetup in June 2015\n",
    "\n",
    "As shown in the following graph the majority of the visits from all members, agglomerate in June 2015, correlating to the fact that in this month was the last event registered in Meetup for this group."
   ]
  },
  {
   "cell_type": "code",
   "execution_count": 42,
   "metadata": {
    "collapsed": false
   },
   "outputs": [
    {
     "data": {
      "text/plain": [
       "<matplotlib.axes._subplots.AxesSubplot at 0x116b57320>"
      ]
     },
     "execution_count": 42,
     "metadata": {},
     "output_type": "execute_result"
    },
    {
     "data": {
      "image/png": "[encoded data removed]",
      "text/plain": [
       "<matplotlib.figure.Figure at 0x116b8f978>"
      ]
     },
     "metadata": {},
     "output_type": "display_data"
    }
   ],
   "source": [
    "pd.groupby(vlc, by=[vlc.visited.dt.year,vlc.visited.dt.month]) \\\n",
    ".size() \\\n",
    ".plot(kind=\"bar\", title=\"Visits distributed by Month\", color=\"green\", figsize=(12,4))"
   ]
  },
  {
   "cell_type": "markdown",
   "metadata": {},
   "source": [
    "### Sentiment in Bio\n",
    "\n",
    "This section researches about the descriptions used in the Bio field from every member, and determines if some sentiment can be obtained from their brief bio, assisting this research in members with explicit willing to work in projects or adding specific references to websites or email addresses"
   ]
  },
  {
   "cell_type": "code",
   "execution_count": 13,
   "metadata": {
    "collapsed": false
   },
   "outputs": [
    {
     "data": {
      "text/plain": [
       "299"
      ]
     },
     "execution_count": 13,
     "metadata": {},
     "output_type": "execute_result"
    }
   ],
   "source": [
    "# Number of people that does not have a Bio line\n",
    "vlc[pd.isnull(vlc.bio.str.strip())].id.size"
   ]
  },
  {
   "cell_type": "code",
   "execution_count": 14,
   "metadata": {
    "collapsed": false
   },
   "outputs": [
    {
     "data": {
      "text/plain": [
       "33"
      ]
     },
     "execution_count": 14,
     "metadata": {},
     "output_type": "execute_result"
    }
   ],
   "source": [
    "# People that has a bio line, searching for who is not shy\n",
    "vlc[pd.notnull(vlc.bio.str.strip())].id.size"
   ]
  },
  {
   "cell_type": "code",
   "execution_count": 16,
   "metadata": {
    "collapsed": false
   },
   "outputs": [],
   "source": [
    "# Transverse the topics hierarchy and store it in a flat list\n",
    "interests = []\n",
    "for i in vlc.topics:\n",
    "    for j in i:\n",
    "        interests.append(j)"
   ]
  },
  {
   "cell_type": "code",
   "execution_count": 18,
   "metadata": {
    "collapsed": false
   },
   "outputs": [],
   "source": [
    "# Convert topics to a DataFrame for further analysis\n",
    "topics = pd.DataFrame(interests)"
   ]
  },
  {
   "cell_type": "code",
   "execution_count": 39,
   "metadata": {
    "collapsed": false
   },
   "outputs": [
    {
     "data": {
      "text/html": [
       "<div>\n",
       "<table border=\"1\" class=\"dataframe\">\n",
       "  <thead>\n",
       "    <tr style=\"text-align: right;\">\n",
       "      <th></th>\n",
       "      <th>name</th>\n",
       "      <th>count</th>\n",
       "    </tr>\n",
       "  </thead>\n",
       "  <tbody>\n",
       "    <tr>\n",
       "      <th>0</th>\n",
       "      <td>Innovation</td>\n",
       "      <td>71</td>\n",
       "    </tr>\n",
       "    <tr>\n",
       "      <th>1</th>\n",
       "      <td>Web Development</td>\n",
       "      <td>78</td>\n",
       "    </tr>\n",
       "    <tr>\n",
       "      <th>2</th>\n",
       "      <td>Open Source</td>\n",
       "      <td>96</td>\n",
       "    </tr>\n",
       "    <tr>\n",
       "      <th>3</th>\n",
       "      <td>Computer programming</td>\n",
       "      <td>103</td>\n",
       "    </tr>\n",
       "    <tr>\n",
       "      <th>4</th>\n",
       "      <td>Startup Businesses</td>\n",
       "      <td>111</td>\n",
       "    </tr>\n",
       "    <tr>\n",
       "      <th>5</th>\n",
       "      <td>Software Development</td>\n",
       "      <td>114</td>\n",
       "    </tr>\n",
       "    <tr>\n",
       "      <th>6</th>\n",
       "      <td>Big Data</td>\n",
       "      <td>132</td>\n",
       "    </tr>\n",
       "    <tr>\n",
       "      <th>7</th>\n",
       "      <td>Technology Startups</td>\n",
       "      <td>136</td>\n",
       "    </tr>\n",
       "    <tr>\n",
       "      <th>8</th>\n",
       "      <td>New Technology</td>\n",
       "      <td>158</td>\n",
       "    </tr>\n",
       "  </tbody>\n",
       "</table>\n",
       "</div>"
      ],
      "text/plain": [
       "                   name  count\n",
       "0            Innovation     71\n",
       "1       Web Development     78\n",
       "2           Open Source     96\n",
       "3  Computer programming    103\n",
       "4    Startup Businesses    111\n",
       "5  Software Development    114\n",
       "6              Big Data    132\n",
       "7   Technology Startups    136\n",
       "8        New Technology    158"
      ]
     },
     "execution_count": 39,
     "metadata": {},
     "output_type": "execute_result"
    }
   ],
   "source": [
    "# Obtain the top 10 interests in the Big Data Group\n",
    "pd.DataFrame(sorted([[n, len(g)] for n,g in pd.groupby(topics, by=topics.name)], key=lambda x: x[1])[-9:], columns=[\"name\", \"count\"])"
   ]
  },
  {
   "cell_type": "code",
   "execution_count": 67,
   "metadata": {
    "collapsed": false
   },
   "outputs": [
    {
     "data": {
      "text/html": [
       "<div>\n",
       "<table border=\"1\" class=\"dataframe\">\n",
       "  <thead>\n",
       "    <tr style=\"text-align: right;\">\n",
       "      <th></th>\n",
       "      <th>name</th>\n",
       "      <th>visited</th>\n",
       "      <th>other_services</th>\n",
       "    </tr>\n",
       "  </thead>\n",
       "  <tbody>\n",
       "    <tr>\n",
       "      <th>12</th>\n",
       "      <td>Alberto Téval</td>\n",
       "      <td>2014-08-12 09:28:47</td>\n",
       "      <td>{'twitter': {'identifier': '@albertogargar'}}</td>\n",
       "    </tr>\n",
       "    <tr>\n",
       "      <th>43</th>\n",
       "      <td>Angel Raul Molina Muñoz</td>\n",
       "      <td>2015-02-10 11:46:37</td>\n",
       "      <td>{'twitter': {'identifier': '@cazascripts'}}</td>\n",
       "    </tr>\n",
       "    <tr>\n",
       "      <th>61</th>\n",
       "      <td>Bbooster</td>\n",
       "      <td>2015-06-22 07:31:43</td>\n",
       "      <td>{'twitter': {'identifier': '@bbooster_org'}}</td>\n",
       "    </tr>\n",
       "    <tr>\n",
       "      <th>67</th>\n",
       "      <td>Borja López Felipe</td>\n",
       "      <td>2015-07-23 15:06:47</td>\n",
       "      <td>{'twitter': {'identifier': '@BorjaLoFe'}}</td>\n",
       "    </tr>\n",
       "    <tr>\n",
       "      <th>77</th>\n",
       "      <td>Carlos</td>\n",
       "      <td>2016-02-22 22:24:19</td>\n",
       "      <td>{'facebook': {'identifier': 'https://www.faceb...</td>\n",
       "    </tr>\n",
       "    <tr>\n",
       "      <th>80</th>\n",
       "      <td>Carlos López Domínguez</td>\n",
       "      <td>2015-08-31 16:46:35</td>\n",
       "      <td>{'facebook': {'identifier': 'https://www.faceb...</td>\n",
       "    </tr>\n",
       "    <tr>\n",
       "      <th>102</th>\n",
       "      <td>Cristina carrascosa</td>\n",
       "      <td>2016-05-16 11:41:17</td>\n",
       "      <td>{'twitter': {'identifier': '@CarrascosaCris_'}}</td>\n",
       "    </tr>\n",
       "    <tr>\n",
       "      <th>106</th>\n",
       "      <td>Dani Riera</td>\n",
       "      <td>2015-10-22 15:42:04</td>\n",
       "      <td>{'twitter': {'identifier': '@driera_com'}}</td>\n",
       "    </tr>\n",
       "    <tr>\n",
       "      <th>114</th>\n",
       "      <td>David Buitrago Arenas</td>\n",
       "      <td>2016-08-26 14:40:32</td>\n",
       "      <td>{'twitter': {'identifier': '@dbarenas'}}</td>\n",
       "    </tr>\n",
       "    <tr>\n",
       "      <th>131</th>\n",
       "      <td>Eduardo Sebastian</td>\n",
       "      <td>2015-06-27 14:34:21</td>\n",
       "      <td>{'twitter': {'identifier': '@esebastian'}}</td>\n",
       "    </tr>\n",
       "    <tr>\n",
       "      <th>152</th>\n",
       "      <td>Fernando</td>\n",
       "      <td>2015-06-16 09:29:14</td>\n",
       "      <td>{'linkedin': {'identifier': 'https://www.linke...</td>\n",
       "    </tr>\n",
       "    <tr>\n",
       "      <th>173</th>\n",
       "      <td>gloria</td>\n",
       "      <td>2016-05-31 07:30:10</td>\n",
       "      <td>{'linkedin': {'identifier': 'https://www.linke...</td>\n",
       "    </tr>\n",
       "    <tr>\n",
       "      <th>175</th>\n",
       "      <td>Gloria Moya</td>\n",
       "      <td>2015-03-22 22:05:07</td>\n",
       "      <td>{'twitter': {'identifier': '@gloriamoya'}}</td>\n",
       "    </tr>\n",
       "    <tr>\n",
       "      <th>178</th>\n",
       "      <td>Guillem Carbonell</td>\n",
       "      <td>2015-09-12 23:27:12</td>\n",
       "      <td>{'twitter': {'identifier': '@ubikretail'}}</td>\n",
       "    </tr>\n",
       "    <tr>\n",
       "      <th>187</th>\n",
       "      <td>Ilko García Pérez</td>\n",
       "      <td>2014-11-13 19:18:49</td>\n",
       "      <td>{'facebook': {'identifier': 'https://www.faceb...</td>\n",
       "    </tr>\n",
       "    <tr>\n",
       "      <th>193</th>\n",
       "      <td>Ismael Gil</td>\n",
       "      <td>2015-07-26 09:07:54</td>\n",
       "      <td>{'twitter': {'identifier': '@ismelbooks'}}</td>\n",
       "    </tr>\n",
       "    <tr>\n",
       "      <th>211</th>\n",
       "      <td>Javier Llinares Salas</td>\n",
       "      <td>2016-04-11 12:04:12</td>\n",
       "      <td>{'tumblr': {'identifier': 'http://jllinares.tu...</td>\n",
       "    </tr>\n",
       "    <tr>\n",
       "      <th>214</th>\n",
       "      <td>Javier Orero</td>\n",
       "      <td>2015-03-31 06:35:19</td>\n",
       "      <td>{'facebook': {'identifier': 'https://www.faceb...</td>\n",
       "    </tr>\n",
       "    <tr>\n",
       "      <th>220</th>\n",
       "      <td>Jesús Pérez</td>\n",
       "      <td>2015-05-06 15:24:31</td>\n",
       "      <td>{'twitter': {'identifier': '@gsuspz'}}</td>\n",
       "    </tr>\n",
       "    <tr>\n",
       "      <th>227</th>\n",
       "      <td>Jonas Talavera</td>\n",
       "      <td>2014-11-05 22:52:54</td>\n",
       "      <td>{'linkedin': {'identifier': 'https://www.linke...</td>\n",
       "    </tr>\n",
       "    <tr>\n",
       "      <th>233</th>\n",
       "      <td>Jorge Sanz</td>\n",
       "      <td>2015-02-21 11:05:50</td>\n",
       "      <td>{'twitter': {'identifier': '@xurxosanz'}}</td>\n",
       "    </tr>\n",
       "    <tr>\n",
       "      <th>238</th>\n",
       "      <td>José Antonio Bravo</td>\n",
       "      <td>2015-02-22 15:19:15</td>\n",
       "      <td>{'tumblr': {'identifier': 'http://remanentes.t...</td>\n",
       "    </tr>\n",
       "    <tr>\n",
       "      <th>247</th>\n",
       "      <td>jose manuel marti</td>\n",
       "      <td>2016-05-29 08:47:28</td>\n",
       "      <td>{'facebook': {'identifier': 'https://www.faceb...</td>\n",
       "    </tr>\n",
       "    <tr>\n",
       "      <th>261</th>\n",
       "      <td>juan carrión</td>\n",
       "      <td>2015-01-26 17:43:31</td>\n",
       "      <td>{'twitter': {'identifier': '@juancarrionP'}}</td>\n",
       "    </tr>\n",
       "    <tr>\n",
       "      <th>262</th>\n",
       "      <td>Juan Castillo</td>\n",
       "      <td>2016-03-02 21:38:17</td>\n",
       "      <td>{'facebook': {'identifier': 'https://www.faceb...</td>\n",
       "    </tr>\n",
       "    <tr>\n",
       "      <th>272</th>\n",
       "      <td>Julio Braceli</td>\n",
       "      <td>2015-10-25 12:31:36</td>\n",
       "      <td>{'twitter': {'identifier': '@JulioBraceli'}}</td>\n",
       "    </tr>\n",
       "    <tr>\n",
       "      <th>275</th>\n",
       "      <td>Kico Rangel</td>\n",
       "      <td>2016-04-11 13:20:34</td>\n",
       "      <td>{'facebook': {'identifier': 'https://www.faceb...</td>\n",
       "    </tr>\n",
       "    <tr>\n",
       "      <th>278</th>\n",
       "      <td>Krloos Rivera</td>\n",
       "      <td>2014-09-29 12:34:34</td>\n",
       "      <td>{'facebook': {'identifier': 'https://www.faceb...</td>\n",
       "    </tr>\n",
       "    <tr>\n",
       "      <th>285</th>\n",
       "      <td>Lucas Noce</td>\n",
       "      <td>2016-04-27 18:13:51</td>\n",
       "      <td>{'linkedin': {'identifier': 'https://www.linke...</td>\n",
       "    </tr>\n",
       "    <tr>\n",
       "      <th>287</th>\n",
       "      <td>Luis Belloch</td>\n",
       "      <td>2015-02-27 21:11:55</td>\n",
       "      <td>{'twitter': {'identifier': '@luisbelloch'}}</td>\n",
       "    </tr>\n",
       "    <tr>\n",
       "      <th>291</th>\n",
       "      <td>Mai Giménez</td>\n",
       "      <td>2016-07-02 19:38:51</td>\n",
       "      <td>{'twitter': {'identifier': '@maidotgimenez'}}</td>\n",
       "    </tr>\n",
       "    <tr>\n",
       "      <th>305</th>\n",
       "      <td>Marian</td>\n",
       "      <td>2016-01-31 15:57:14</td>\n",
       "      <td>{'twitter': {'identifier': '@gelesom'}}</td>\n",
       "    </tr>\n",
       "    <tr>\n",
       "      <th>320</th>\n",
       "      <td>Miguel Lopez</td>\n",
       "      <td>2016-08-10 11:01:29</td>\n",
       "      <td>{'twitter': {'identifier': '@MiguelLopezGo'}}</td>\n",
       "    </tr>\n",
       "    <tr>\n",
       "      <th>323</th>\n",
       "      <td>Miriam</td>\n",
       "      <td>2016-08-30 13:31:39</td>\n",
       "      <td>{'twitter': {'identifier': '@MirilizLN'}}</td>\n",
       "    </tr>\n",
       "    <tr>\n",
       "      <th>336</th>\n",
       "      <td>Óscar Martínez</td>\n",
       "      <td>2015-01-25 18:20:00</td>\n",
       "      <td>{'twitter': {'identifier': '@masquesig'}}</td>\n",
       "    </tr>\n",
       "    <tr>\n",
       "      <th>337</th>\n",
       "      <td>Oscar Miguel</td>\n",
       "      <td>2015-05-30 12:22:23</td>\n",
       "      <td>{'facebook': {'identifier': 'https://www.faceb...</td>\n",
       "    </tr>\n",
       "    <tr>\n",
       "      <th>338</th>\n",
       "      <td>Oscar Rovira</td>\n",
       "      <td>2015-07-03 17:22:53</td>\n",
       "      <td>{'twitter': {'identifier': '@oscarovirac'}}</td>\n",
       "    </tr>\n",
       "    <tr>\n",
       "      <th>339</th>\n",
       "      <td>Pablo</td>\n",
       "      <td>2015-10-30 18:40:53</td>\n",
       "      <td>{'facebook': {'identifier': 'https://www.faceb...</td>\n",
       "    </tr>\n",
       "    <tr>\n",
       "      <th>344</th>\n",
       "      <td>Pablo Monterde</td>\n",
       "      <td>2016-05-31 21:14:53</td>\n",
       "      <td>{'twitter': {'identifier': '@pablomonterdep'}}</td>\n",
       "    </tr>\n",
       "    <tr>\n",
       "      <th>347</th>\n",
       "      <td>Paco Colomer I/O</td>\n",
       "      <td>2016-08-11 14:53:50</td>\n",
       "      <td>{'twitter': {'identifier': '@colomer_io'}}</td>\n",
       "    </tr>\n",
       "    <tr>\n",
       "      <th>352</th>\n",
       "      <td>PAt Gilbert Lorens</td>\n",
       "      <td>2015-09-11 10:55:50</td>\n",
       "      <td>{'facebook': {'identifier': 'http://www.facebo...</td>\n",
       "    </tr>\n",
       "    <tr>\n",
       "      <th>363</th>\n",
       "      <td>Pedro-Juan Ferrer</td>\n",
       "      <td>2014-09-10 06:25:23</td>\n",
       "      <td>{'twitter': {'identifier': '@vehrka'}}</td>\n",
       "    </tr>\n",
       "    <tr>\n",
       "      <th>372</th>\n",
       "      <td>Ramon Quesada (Ramon Bitcoin)</td>\n",
       "      <td>2015-05-07 11:15:44</td>\n",
       "      <td>{'facebook': {'identifier': 'https://www.faceb...</td>\n",
       "    </tr>\n",
       "    <tr>\n",
       "      <th>380</th>\n",
       "      <td>Ricardo García Fernández</td>\n",
       "      <td>2015-06-29 06:29:52</td>\n",
       "      <td>{'twitter': {'identifier': '@ricardogarfe'}}</td>\n",
       "    </tr>\n",
       "    <tr>\n",
       "      <th>404</th>\n",
       "      <td>Sergio Muñoz</td>\n",
       "      <td>2016-06-02 10:44:23</td>\n",
       "      <td>{'tumblr': {'identifier': 'http://sermuolo.tum...</td>\n",
       "    </tr>\n",
       "    <tr>\n",
       "      <th>408</th>\n",
       "      <td>Simulador-Hipoteca</td>\n",
       "      <td>2015-09-10 14:19:38</td>\n",
       "      <td>{'flickr': {'identifier': 'http://hipotecafaci...</td>\n",
       "    </tr>\n",
       "    <tr>\n",
       "      <th>424</th>\n",
       "      <td>Valencia R Users</td>\n",
       "      <td>2015-12-04 20:05:34</td>\n",
       "      <td>{'twitter': {'identifier': '@valenciarusers'}}</td>\n",
       "    </tr>\n",
       "    <tr>\n",
       "      <th>425</th>\n",
       "      <td>Valeria</td>\n",
       "      <td>2015-08-17 11:15:49</td>\n",
       "      <td>{'twitter': {'identifier': '@ValeriaSuaz'}}</td>\n",
       "    </tr>\n",
       "    <tr>\n",
       "      <th>426</th>\n",
       "      <td>Valerie Hanesse</td>\n",
       "      <td>2016-05-19 16:14:22</td>\n",
       "      <td>{'linkedin': {'identifier': 'https://www.linke...</td>\n",
       "    </tr>\n",
       "    <tr>\n",
       "      <th>427</th>\n",
       "      <td>Vicent</td>\n",
       "      <td>2015-02-15 15:35:23</td>\n",
       "      <td>{'twitter': {'identifier': '@ferrervicent'}}</td>\n",
       "    </tr>\n",
       "    <tr>\n",
       "      <th>437</th>\n",
       "      <td>Victor</td>\n",
       "      <td>2016-01-22 09:24:38</td>\n",
       "      <td>{'facebook': {'identifier': 'https://www.faceb...</td>\n",
       "    </tr>\n",
       "    <tr>\n",
       "      <th>443</th>\n",
       "      <td>Xandru Cancelas</td>\n",
       "      <td>2015-12-21 10:58:27</td>\n",
       "      <td>{'twitter': {'identifier': '@XandruCancelas'}}</td>\n",
       "    </tr>\n",
       "    <tr>\n",
       "      <th>444</th>\n",
       "      <td>Xavi Bonobo</td>\n",
       "      <td>2015-01-20 14:06:57</td>\n",
       "      <td>{'facebook': {'identifier': 'https://www.faceb...</td>\n",
       "    </tr>\n",
       "  </tbody>\n",
       "</table>\n",
       "</div>"
      ],
      "text/plain": [
       "                              name             visited  \\\n",
       "12                   Alberto Téval 2014-08-12 09:28:47   \n",
       "43         Angel Raul Molina Muñoz 2015-02-10 11:46:37   \n",
       "61                        Bbooster 2015-06-22 07:31:43   \n",
       "67              Borja López Felipe 2015-07-23 15:06:47   \n",
       "77                          Carlos 2016-02-22 22:24:19   \n",
       "80          Carlos López Domínguez 2015-08-31 16:46:35   \n",
       "102            Cristina carrascosa 2016-05-16 11:41:17   \n",
       "106                     Dani Riera 2015-10-22 15:42:04   \n",
       "114          David Buitrago Arenas 2016-08-26 14:40:32   \n",
       "131              Eduardo Sebastian 2015-06-27 14:34:21   \n",
       "152                       Fernando 2015-06-16 09:29:14   \n",
       "173                         gloria 2016-05-31 07:30:10   \n",
       "175                    Gloria Moya 2015-03-22 22:05:07   \n",
       "178              Guillem Carbonell 2015-09-12 23:27:12   \n",
       "187              Ilko García Pérez 2014-11-13 19:18:49   \n",
       "193                     Ismael Gil 2015-07-26 09:07:54   \n",
       "211          Javier Llinares Salas 2016-04-11 12:04:12   \n",
       "214                   Javier Orero 2015-03-31 06:35:19   \n",
       "220                    Jesús Pérez 2015-05-06 15:24:31   \n",
       "227                 Jonas Talavera 2014-11-05 22:52:54   \n",
       "233                     Jorge Sanz 2015-02-21 11:05:50   \n",
       "238             José Antonio Bravo 2015-02-22 15:19:15   \n",
       "247              jose manuel marti 2016-05-29 08:47:28   \n",
       "261                   juan carrión 2015-01-26 17:43:31   \n",
       "262                  Juan Castillo 2016-03-02 21:38:17   \n",
       "272                  Julio Braceli 2015-10-25 12:31:36   \n",
       "275                    Kico Rangel 2016-04-11 13:20:34   \n",
       "278                  Krloos Rivera 2014-09-29 12:34:34   \n",
       "285                     Lucas Noce 2016-04-27 18:13:51   \n",
       "287                   Luis Belloch 2015-02-27 21:11:55   \n",
       "291                    Mai Giménez 2016-07-02 19:38:51   \n",
       "305                         Marian 2016-01-31 15:57:14   \n",
       "320                   Miguel Lopez 2016-08-10 11:01:29   \n",
       "323                         Miriam 2016-08-30 13:31:39   \n",
       "336                 Óscar Martínez 2015-01-25 18:20:00   \n",
       "337                   Oscar Miguel 2015-05-30 12:22:23   \n",
       "338                   Oscar Rovira 2015-07-03 17:22:53   \n",
       "339                          Pablo 2015-10-30 18:40:53   \n",
       "344                 Pablo Monterde 2016-05-31 21:14:53   \n",
       "347               Paco Colomer I/O 2016-08-11 14:53:50   \n",
       "352             PAt Gilbert Lorens 2015-09-11 10:55:50   \n",
       "363              Pedro-Juan Ferrer 2014-09-10 06:25:23   \n",
       "372  Ramon Quesada (Ramon Bitcoin) 2015-05-07 11:15:44   \n",
       "380       Ricardo García Fernández 2015-06-29 06:29:52   \n",
       "404                   Sergio Muñoz 2016-06-02 10:44:23   \n",
       "408             Simulador-Hipoteca 2015-09-10 14:19:38   \n",
       "424               Valencia R Users 2015-12-04 20:05:34   \n",
       "425                        Valeria 2015-08-17 11:15:49   \n",
       "426                Valerie Hanesse 2016-05-19 16:14:22   \n",
       "427                        Vicent  2015-02-15 15:35:23   \n",
       "437                         Victor 2016-01-22 09:24:38   \n",
       "443                Xandru Cancelas 2015-12-21 10:58:27   \n",
       "444                    Xavi Bonobo 2015-01-20 14:06:57   \n",
       "\n",
       "                                        other_services  \n",
       "12       {'twitter': {'identifier': '@albertogargar'}}  \n",
       "43         {'twitter': {'identifier': '@cazascripts'}}  \n",
       "61        {'twitter': {'identifier': '@bbooster_org'}}  \n",
       "67           {'twitter': {'identifier': '@BorjaLoFe'}}  \n",
       "77   {'facebook': {'identifier': 'https://www.faceb...  \n",
       "80   {'facebook': {'identifier': 'https://www.faceb...  \n",
       "102    {'twitter': {'identifier': '@CarrascosaCris_'}}  \n",
       "106         {'twitter': {'identifier': '@driera_com'}}  \n",
       "114           {'twitter': {'identifier': '@dbarenas'}}  \n",
       "131         {'twitter': {'identifier': '@esebastian'}}  \n",
       "152  {'linkedin': {'identifier': 'https://www.linke...  \n",
       "173  {'linkedin': {'identifier': 'https://www.linke...  \n",
       "175         {'twitter': {'identifier': '@gloriamoya'}}  \n",
       "178         {'twitter': {'identifier': '@ubikretail'}}  \n",
       "187  {'facebook': {'identifier': 'https://www.faceb...  \n",
       "193         {'twitter': {'identifier': '@ismelbooks'}}  \n",
       "211  {'tumblr': {'identifier': 'http://jllinares.tu...  \n",
       "214  {'facebook': {'identifier': 'https://www.faceb...  \n",
       "220             {'twitter': {'identifier': '@gsuspz'}}  \n",
       "227  {'linkedin': {'identifier': 'https://www.linke...  \n",
       "233          {'twitter': {'identifier': '@xurxosanz'}}  \n",
       "238  {'tumblr': {'identifier': 'http://remanentes.t...  \n",
       "247  {'facebook': {'identifier': 'https://www.faceb...  \n",
       "261       {'twitter': {'identifier': '@juancarrionP'}}  \n",
       "262  {'facebook': {'identifier': 'https://www.faceb...  \n",
       "272       {'twitter': {'identifier': '@JulioBraceli'}}  \n",
       "275  {'facebook': {'identifier': 'https://www.faceb...  \n",
       "278  {'facebook': {'identifier': 'https://www.faceb...  \n",
       "285  {'linkedin': {'identifier': 'https://www.linke...  \n",
       "287        {'twitter': {'identifier': '@luisbelloch'}}  \n",
       "291      {'twitter': {'identifier': '@maidotgimenez'}}  \n",
       "305            {'twitter': {'identifier': '@gelesom'}}  \n",
       "320      {'twitter': {'identifier': '@MiguelLopezGo'}}  \n",
       "323          {'twitter': {'identifier': '@MirilizLN'}}  \n",
       "336          {'twitter': {'identifier': '@masquesig'}}  \n",
       "337  {'facebook': {'identifier': 'https://www.faceb...  \n",
       "338        {'twitter': {'identifier': '@oscarovirac'}}  \n",
       "339  {'facebook': {'identifier': 'https://www.faceb...  \n",
       "344     {'twitter': {'identifier': '@pablomonterdep'}}  \n",
       "347         {'twitter': {'identifier': '@colomer_io'}}  \n",
       "352  {'facebook': {'identifier': 'http://www.facebo...  \n",
       "363             {'twitter': {'identifier': '@vehrka'}}  \n",
       "372  {'facebook': {'identifier': 'https://www.faceb...  \n",
       "380       {'twitter': {'identifier': '@ricardogarfe'}}  \n",
       "404  {'tumblr': {'identifier': 'http://sermuolo.tum...  \n",
       "408  {'flickr': {'identifier': 'http://hipotecafaci...  \n",
       "424     {'twitter': {'identifier': '@valenciarusers'}}  \n",
       "425        {'twitter': {'identifier': '@ValeriaSuaz'}}  \n",
       "426  {'linkedin': {'identifier': 'https://www.linke...  \n",
       "427       {'twitter': {'identifier': '@ferrervicent'}}  \n",
       "437  {'facebook': {'identifier': 'https://www.faceb...  \n",
       "443     {'twitter': {'identifier': '@XandruCancelas'}}  \n",
       "444  {'facebook': {'identifier': 'https://www.faceb...  "
      ]
     },
     "execution_count": 67,
     "metadata": {},
     "output_type": "execute_result"
    }
   ],
   "source": [
    "vlc[vlc.other_services.map(lambda x: bool(x))][[\"name\",\"visited\", \"other_services\"]]"
   ]
  },
  {
   "cell_type": "code",
   "execution_count": null,
   "metadata": {
    "collapsed": true
   },
   "outputs": [],
   "source": []
  }
 ],
 "metadata": {
  "kernelspec": {
   "display_name": "Python 3",
   "language": "python",
   "name": "python3"
  },
  "language_info": {
   "codemirror_mode": {
    "name": "ipython",
    "version": 3
   },
   "file_extension": ".py",
   "mimetype": "text/x-python",
   "name": "python",
   "nbconvert_exporter": "python",
   "pygments_lexer": "ipython3",
   "version": "3.5.1"
  }
 },
 "nbformat": 4,
 "nbformat_minor": 0
}
