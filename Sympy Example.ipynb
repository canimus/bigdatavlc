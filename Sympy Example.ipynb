{
 "cells": [
  {
   "cell_type": "code",
   "execution_count": 2,
   "metadata": {
    "collapsed": false
   },
   "outputs": [],
   "source": [
    "%matplotlib inline\n",
    "import sympy as sp\n",
    "from sympy.abc import theta\n",
    "import numpy as np\n",
    "from scipy.integrate import quad\n",
    "sp.init_printing()\n",
    "\n",
    "import matplotlib\n",
    "import matplotlib.pylab as plt"
   ]
  },
  {
   "cell_type": "code",
   "execution_count": 3,
   "metadata": {
    "collapsed": false
   },
   "outputs": [],
   "source": [
    "x = sp.Symbol('x')"
   ]
  },
  {
   "cell_type": "code",
   "execution_count": 4,
   "metadata": {
    "collapsed": false
   },
   "outputs": [
    {
     "data": {
      "image/png": "[encoded data removed]",
      "text/latex": [
       "$$\\theta$$"
      ],
      "text/plain": [
       "θ"
      ]
     },
     "execution_count": 4,
     "metadata": {},
     "output_type": "execute_result"
    }
   ],
   "source": [
    "sp.abc.theta"
   ]
  },
  {
   "cell_type": "code",
   "execution_count": 5,
   "metadata": {
    "collapsed": false
   },
   "outputs": [
    {
     "data": {
      "image/png": "[encoded data removed]",
      "text/latex": [
       "$$\\int_{0}^{\\frac{\\pi}{2}} \\cos{\\left (\\theta \\right )}\\, d\\theta$$"
      ],
      "text/plain": [
       "π          \n",
       "─          \n",
       "2          \n",
       "⌠          \n",
       "⎮ cos(θ) dθ\n",
       "⌡          \n",
       "0          "
      ]
     },
     "execution_count": 5,
     "metadata": {},
     "output_type": "execute_result"
    }
   ],
   "source": [
    "a = (sp.Integral(sp.cos(sp.abc.theta), (sp.abc.theta,0,sp.pi/2)))\n",
    "a"
   ]
  },
  {
   "cell_type": "code",
   "execution_count": 18,
   "metadata": {
    "collapsed": false
   },
   "outputs": [
    {
     "data": {
      "image/png": "[encoded data removed]",
      "text/latex": [
       "$$\\frac{\\pi}{2}$$"
      ],
      "text/plain": [
       "π\n",
       "─\n",
       "2"
      ]
     },
     "execution_count": 18,
     "metadata": {},
     "output_type": "execute_result"
    }
   ],
   "source": [
    "b = (sp.pi/2)\n",
    "b"
   ]
  },
  {
   "cell_type": "code",
   "execution_count": 19,
   "metadata": {
    "collapsed": false
   },
   "outputs": [
    {
     "data": {
      "image/png": "[encoded data removed]",
      "text/latex": [
       "$$\\frac{2}{\\pi} \\int_{0}^{\\frac{\\pi}{2}} \\cos{\\left (\\theta \\right )}\\, d\\theta$$"
      ],
      "text/plain": [
       "  π          \n",
       "  ─          \n",
       "  2          \n",
       "  ⌠          \n",
       "2⋅⎮ cos(θ) dθ\n",
       "  ⌡          \n",
       "  0          \n",
       "─────────────\n",
       "      π      "
      ]
     },
     "execution_count": 19,
     "metadata": {},
     "output_type": "execute_result"
    }
   ],
   "source": [
    "c = a/b\n",
    "c"
   ]
  },
  {
   "cell_type": "code",
   "execution_count": 13,
   "metadata": {
    "collapsed": false
   },
   "outputs": [
    {
     "data": {
      "image/png": "[encoded data removed]",
      "text/latex": [
       "$$\\frac{2}{\\pi} \\int_{0}^{\\frac{\\pi}{2}} \\cos{\\left (\\theta \\right )}\\, d\\theta = \\frac{2}{\\pi}$$"
      ],
      "text/plain": [
       "  π              \n",
       "  ─              \n",
       "  2              \n",
       "  ⌠              \n",
       "2⋅⎮ cos(θ) dθ    \n",
       "  ⌡              \n",
       "  0             2\n",
       "───────────── = ─\n",
       "      π         π"
      ]
     },
     "execution_count": 13,
     "metadata": {},
     "output_type": "execute_result"
    }
   ],
   "source": [
    "sp.Eq(c, c.doit())"
   ]
  },
  {
   "cell_type": "code",
   "execution_count": 14,
   "metadata": {
    "collapsed": false
   },
   "outputs": [],
   "source": [
    "def f(x):\n",
    "    return np.cos(x)\n"
   ]
  },
  {
   "cell_type": "code",
   "execution_count": 15,
   "metadata": {
    "collapsed": false
   },
   "outputs": [],
   "source": [
    "x1 = np.linspace(0,np.pi/2)"
   ]
  },
  {
   "cell_type": "code",
   "execution_count": 16,
   "metadata": {
    "collapsed": false
   },
   "outputs": [
    {
     "data": {
      "text/plain": [
       "array([  1.00000000e+00,   9.99486216e-01,   9.97945393e-01,\n",
       "         9.95379113e-01,   9.91790014e-01,   9.87181783e-01,\n",
       "         9.81559157e-01,   9.74927912e-01,   9.67294863e-01,\n",
       "         9.58667853e-01,   9.49055747e-01,   9.38468422e-01,\n",
       "         9.26916757e-01,   9.14412623e-01,   9.00968868e-01,\n",
       "         8.86599306e-01,   8.71318704e-01,   8.55142763e-01,\n",
       "         8.38088105e-01,   8.20172255e-01,   8.01413622e-01,\n",
       "         7.81831482e-01,   7.61445958e-01,   7.40277997e-01,\n",
       "         7.18349350e-01,   6.95682551e-01,   6.72300890e-01,\n",
       "         6.48228395e-01,   6.23489802e-01,   5.98110530e-01,\n",
       "         5.72116660e-01,   5.45534901e-01,   5.18392568e-01,\n",
       "         4.90717552e-01,   4.62538290e-01,   4.33883739e-01,\n",
       "         4.04783343e-01,   3.75267005e-01,   3.45365054e-01,\n",
       "         3.15108218e-01,   2.84527587e-01,   2.53654584e-01,\n",
       "         2.22520934e-01,   1.91158629e-01,   1.59599895e-01,\n",
       "         1.27877162e-01,   9.60230259e-02,   6.40702200e-02,\n",
       "         3.20515776e-02,   6.12323400e-17])"
      ]
     },
     "execution_count": 16,
     "metadata": {},
     "output_type": "execute_result"
    }
   ],
   "source": [
    "f(x1)"
   ]
  },
  {
   "cell_type": "code",
   "execution_count": 17,
   "metadata": {
    "collapsed": false
   },
   "outputs": [
    {
     "data": {
      "text/plain": [
       "[<matplotlib.text.Text at 0x10c67be48>,\n",
       " <matplotlib.text.Text at 0x10ea11a20>,\n",
       " <matplotlib.text.Text at 0x10ea5cc18>]"
      ]
     },
     "execution_count": 17,
     "metadata": {},
     "output_type": "execute_result"
    },
    {
     "data": {
      "image/png": "[encoded data removed]",
      "text/plain": [
       "<matplotlib.figure.Figure at 0x10c674be0>"
      ]
     },
     "metadata": {},
     "output_type": "display_data"
    }
   ],
   "source": [
    "fig = plt.figure()\n",
    "ax  = fig.add_subplot(111)\n",
    "\n",
    "ax.plot(x1,f(x1))\n",
    "x_label = [r\"$0$\", r\"$\\frac{\\pi}{4}$\",   r\"$\\frac{\\pi}{2}$\"]\n",
    "ax.set_xticks([0, np.pi/4, np.pi/2])\n",
    "ax.set_xticklabels(x_label, fontsize=18)"
   ]
  }
 ],
 "metadata": {
  "kernelspec": {
   "display_name": "Python 3",
   "language": "python",
   "name": "python3"
  },
  "language_info": {
   "codemirror_mode": {
    "name": "ipython",
    "version": 3
   },
   "file_extension": ".py",
   "mimetype": "text/x-python",
   "name": "python",
   "nbconvert_exporter": "python",
   "pygments_lexer": "ipython3",
   "version": "3.5.1"
  }
 },
 "nbformat": 4,
 "nbformat_minor": 0
}
